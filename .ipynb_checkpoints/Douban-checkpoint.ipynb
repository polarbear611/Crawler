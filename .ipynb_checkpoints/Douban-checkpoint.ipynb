{
 "cells": [
  {
   "cell_type": "code",
   "execution_count": 1,
   "metadata": {},
   "outputs": [],
   "source": [
    "import requests, re\n",
    "from bs4 import BeautifulSoup\n",
    "from time import sleep"
   ]
  },
  {
   "cell_type": "code",
   "execution_count": null,
   "metadata": {},
   "outputs": [],
   "source": [
    "url = 'https://movie.douban.com/top250'\n",
    "httphead={\n",
    "\t\t\t'User-Agent':'Mozilla/5.0 (Windows NT 6.3; WOW64) AppleWebKit/537.36 (KHTML, like Gecko) Chrome/50.0.2661.94 Safari/537.36',\n",
    "\t\t\t}\n",
    "for start in range(0)"
   ]
  },
  {
   "cell_type": "code",
   "execution_count": 2,
   "metadata": {},
   "outputs": [],
   "source": [
    "url = 'https://movie.douban.com/top250'\n",
    "params = {\"start\": 0}\n",
    "response = requests.get(url, params=params)\n",
    "text = response.text\n",
    "\n",
    "soup = BeautifulSoup(text, \"lxml\")\n",
    "movie_infos = soup.find_all('li')\n",
    "grid_view = soup.find('ol', class_='grid_view')"
   ]
  },
  {
   "cell_type": "code",
   "execution_count": 9,
   "metadata": {},
   "outputs": [
    {
     "data": {
      "text/plain": [
       "44"
      ]
     },
     "execution_count": 9,
     "metadata": {},
     "output_type": "execute_result"
    }
   ],
   "source": [
    "len(movie_infos)"
   ]
  },
  {
   "cell_type": "code",
   "execution_count": 14,
   "metadata": {},
   "outputs": [
    {
     "data": {
      "text/plain": [
       "25"
      ]
     },
     "execution_count": 14,
     "metadata": {},
     "output_type": "execute_result"
    }
   ],
   "source": [
    "len(grid_view.find_all('li'))"
   ]
  },
  {
   "cell_type": "code",
   "execution_count": 43,
   "metadata": {},
   "outputs": [
    {
     "name": "stdout",
     "output_type": "stream",
     "text": [
      "肖申克的救赎  / The Shawshank Redemption  / 月黑高飞(港)  /  刺激1995(台) 弗兰克·德拉邦特 Frank Darabont 蒂姆·罗宾斯 Tim Robbins /... 1994 美国 犯罪 剧情 9.6 995993 希望让人自由。\n",
      "霸王别姬   / 再见，我的妾  /  Farewell My Concubine 陈凯歌 Kaige Chen 张国荣 Leslie Cheung / 张丰毅 Fengyi Zha... 1993 中国大陆 香港 剧情 爱情 同性 9.5 724045 风华绝代。\n",
      "这个杀手不太冷  / Léon  / 杀手莱昂  /  终极追杀令(台) 吕克·贝松 Luc Besson 让·雷诺 Jean Reno / 娜塔莉·波特曼 ... 1994 法国 剧情 动作 犯罪 9.4 938334 怪蜀黍和小萝莉不得不说的故事。\n",
      "阿甘正传  / Forrest Gump  / 福雷斯特·冈普 Robert Zemeckis Tom Hanks / Robin Wright Penn / Gary Sinise 1994 美国 剧情 爱情 9.4 798244 一部美国近现代史。\n",
      "美丽人生  / La vita è bella  / 一个快乐的传说(港)  /  Life Is Beautiful 罗伯托·贝尼尼 Roberto Benigni 罗伯托·贝尼尼 Roberto Beni... 1997 意大利 剧情 喜剧 爱情 战争 9.5 466366 最美的谎言。\n",
      "千与千寻  / 千と千尋の神隠し  / 神隐少女(台)  /  Spirited Away 宫崎骏 Hayao Miyazaki 柊瑠美 Rumi Hîragi / 入野自由 Miy... 2001 日本 剧情 动画 奇幻 9.2 746713 最好的宫崎骏，最好的久石让。 \n",
      "泰坦尼克号  / Titanic  / 铁达尼号(港 / 台) 詹姆斯·卡梅隆 James Cameron 莱昂纳多·迪卡普里奥 Leonardo... 1997 美国 剧情 爱情 灾难 9.2 737926 失去的才是永恒的。 \n",
      "辛德勒的名单  / Schindler's List  / 舒特拉的名单(港)  /  辛德勒名单 史蒂文·斯皮尔伯格 Steven Spielberg 连姆·尼森 Liam Neeson... 1993 美国 剧情 历史 战争 9.4 424770 拯救一个人，就是拯救整个世界。\n",
      "盗梦空间  / Inception  / 潜行凶间(港)  /  全面启动(台) 克里斯托弗·诺兰 Christopher Nolan 莱昂纳多·迪卡普里奥 Le... 2010 美国 英国 剧情 科幻 悬疑 冒险 9.3 839192 诺兰给了我们一场无法盗取的梦。\n",
      "机器人总动员  / WALL·E  / 瓦力(台)  /  太空奇兵·威E(港) 安德鲁·斯坦顿 Andrew Stanton 本·贝尔特 Ben Burtt / 艾丽... 2008 美国 爱情 科幻 动画 冒险 9.3 550326 小瓦力，大人生。\n",
      "海上钢琴师  / La leggenda del pianista sull'oceano  / 声光伴我飞(港)  /  一九零零的传奇 朱塞佩·托纳多雷 Giuseppe Tornatore 蒂姆·罗斯 Tim Roth / ... 1998 意大利 剧情 音乐 9.2 648296 每个人都要走一条自己坚定了的路，就算是粉身碎骨。 \n",
      "三傻大闹宝莱坞  / 3 Idiots  / 三个傻瓜(台)  /  作死不离3兄弟(港) 拉库马·希拉尼 Rajkumar Hirani 阿米尔·汗 Aamir Khan / 卡... 2009 印度 剧情 喜剧 爱情 歌舞 9.2 752871 英俊版憨豆，高情商版谢耳朵。\n",
      "忠犬八公的故事  / Hachi: A Dog's Tale  / 忠犬小八(台)  /  秋田犬八千(港) 莱塞·霍尔斯道姆 Lasse Hallström 理查·基尔 Richard Ger... 2009 美国 英国 剧情 9.2 517867 永远都不能忘记你所爱的人。\n",
      "放牛班的春天  / Les choristes  / 歌声伴我心(港)  /  唱诗班男孩 克里斯托夫·巴拉蒂 Christophe Barratier 杰拉尔·朱诺 Géra... 2004 法国 瑞士 德国 剧情 音乐 9.2 503318 天籁一般的童声，是最接近上帝的存在。 \n",
      "大话西游之大圣娶亲  / 西遊記大結局之仙履奇緣  / 西游记完结篇仙履奇缘  /  齐天大圣西游记 刘镇伟 Jeffrey Lau 周星驰 Stephen Chow / 吴孟达 Man Tat Ng... 1995 香港 中国大陆 喜剧 爱情 奇幻 冒险 9.2 549870 一生所爱。\n",
      "楚门的世界  / The Truman Show  / 真人Show(港)  /  真人戏 彼得·威尔 Peter Weir 金·凯瑞 Jim Carrey / 劳拉·琳妮 Lau... 1998 美国 剧情 科幻 9.1 520073 如果再也不能见到你，祝你早安，午安，晚安。\n",
      "教父  / The Godfather  / Mario Puzo's The Godfather 弗朗西斯·福特·科波拉 Francis Ford Coppola 马龙·白兰度 M... 1972 美国 剧情 犯罪 9.2 378645 千万不要记恨你的对手，这样会让你失去理智。\n",
      "龙猫  / となりのトトロ  / 邻家的豆豆龙  /  隔壁的特特罗 宫崎骏 Hayao Miyazaki 日高法子 Noriko Hidaka / 坂本千夏 Ch... 1988 日本 儿童 动画 奇幻 家庭 9.1 464457 人人心中都有个龙猫，童年就永远不会消失。\n",
      "熔炉  / 도가니  / 无声呐喊(港)  /  漩涡 黄东赫 Dong-hyuk Hwang 孔侑 Yoo Gong / 郑有美 Yu-mi Jeong ... 2011 韩国 剧情 9.2 301549 我们一路奋战不是为了改变世界，而是为了不让世界改变我们。\n",
      "乱世佳人  / Gone with the Wind  / 飘 维克多·弗莱明 Victor Fleming / 乔治·库克 George Cukor 托... 1939 美国 剧情 历史 爱情 战争 9.2 295002 Tomorrow is another day.\n",
      "星际穿越  / Interstellar  / 星际启示录(港)  /  星际效应(台) 克里斯托弗·诺兰 Christopher Nolan 马修·麦康纳 Matthew Mc... 2014 美国 英国 加拿大 冰岛 剧情 科幻 冒险 9.2 547747 爱是一种力量，让我们超越时空感知它的存在。\n",
      "触不可及  / Intouchables  / 闪亮人生(港)  /  逆转人生(台) 奥利维·那卡什 Olivier Nakache / 艾力克·托兰达 Eric Toledano . 2011 法国 剧情 喜剧 9.1 407544 满满温情的高雅喜剧。\n",
      "无间道  / 無間道  / Infernal Affairs  /  Mou gaan dou 刘伟强 / 麦兆辉 刘德华 / 梁朝伟 / 黄秋生 2002 香港 剧情 犯罪 悬疑 9.0 449033 香港电影史上永不过时的杰作。\n",
      "当幸福来敲门  / The Pursuit of Happyness  / 寻找快乐的故事(港)  /  追求快乐 加布里尔·穆奇诺 Gabriele Muccino 威尔·史密斯 Will Smith ... 2006 美国 剧情 传记 家庭 8.9 595713 平民励志片。 \n",
      "天堂电影院  / Nuovo Cinema Paradiso  / 星光伴我心(港)  /  新天堂乐园(台) 朱塞佩·托纳多雷 Giuseppe Tornatore 安东娜拉·塔莉 Antonel... 1988 意大利 法国 剧情 爱情 9.1 333671 那些吻戏，那些青春，都在影院的黑暗里被泪水冲刷得无比清晰。\n"
     ]
    }
   ],
   "source": [
    "movie_items = grid_view.find_all('li')\n",
    "for movie in movie_items:\n",
    "    titles = movie.find_all('span', class_='title')\n",
    "    title = titles[0].text\n",
    "    try:\n",
    "        orginal_title = titles[1].text\n",
    "    except IndexError:\n",
    "        orginal_title = ''\n",
    "    other_titles = movie.find('span', class_='other').text\n",
    "    #导演、主演、年代、国家、分类\n",
    "    descriptions = movie.find('p', class_='').text\n",
    "    director, stars = descriptions.split('\\n')[1].strip().split('\\xa0\\xa0\\xa0')\n",
    "    director = director[3:].strip()\n",
    "    stars = stars[3:].strip()\n",
    "    #print (director, stars)\n",
    "    year, country, genres = descriptions.split('\\n')[2].strip().split('/')\n",
    "    #print(year.strip(), country.strip(), genres.strip())\n",
    "    rating = movie.find('span', class_='rating_num').text\n",
    "    rating_times = movie.find_all('span')[-2].text[:-3]\n",
    "    inq = movie.find('span', class_='inq').text\n",
    "    print(title, orginal_title, other_titles, director, stars, year.strip(), country.strip(), genres.strip(), rating, rating_times, inq)"
   ]
  },
  {
   "cell_type": "code",
   "execution_count": 26,
   "metadata": {},
   "outputs": [
    {
     "data": {
      "text/plain": [
       "('克里斯托弗·诺兰 Christopher Nolan   ',\n",
       " '马修·麦康纳 Matthew Mc',\n",
       " '2014',\n",
       " '美国 英国 加拿大 冰岛 ',\n",
       " ' 剧情 科幻 冒险')"
      ]
     },
     "execution_count": 26,
     "metadata": {},
     "output_type": "execute_result"
    }
   ],
   "source": [
    "re.search(\"导演: (.*)主演: (.*)\\.\\.\\.([\\d]+) \\/ (.*)\\/(.*)\", \"导演: 克里斯托弗·诺兰 Christopher Nolan   主演: 马修·麦康纳 Matthew Mc...2014 / 美国 英国 加拿大 冰岛 / 剧情 科幻 冒险\").groups()"
   ]
  },
  {
   "cell_type": "code",
   "execution_count": 31,
   "metadata": {},
   "outputs": [
    {
     "data": {
      "text/plain": [
       "['导演: 朱塞佩·托纳多雷 Giuseppe Tornatore', '主演: 安东娜拉·塔莉 Antonel...']"
      ]
     },
     "execution_count": 31,
     "metadata": {},
     "output_type": "execute_result"
    }
   ],
   "source": [
    "descriptions.split('\\n')[1].strip().split('\\xa0\\xa0\\xa0')"
   ]
  },
  {
   "cell_type": "code",
   "execution_count": 33,
   "metadata": {},
   "outputs": [
    {
     "data": {
      "text/plain": [
       "['导演', ' 朱塞佩·托纳多雷 Giuseppe Tornatore']"
      ]
     },
     "execution_count": 33,
     "metadata": {},
     "output_type": "execute_result"
    }
   ],
   "source": [
    "descriptions.split('\\n')[1].strip().split('\\xa0\\xa0\\xa0')[0].split(':')[1]"
   ]
  },
  {
   "cell_type": "code",
   "execution_count": 39,
   "metadata": {},
   "outputs": [
    {
     "name": "stdout",
     "output_type": "stream",
     "text": [
      "弗兰克·德拉邦特 Frank Darabont 蒂姆·罗宾斯 Tim Robbins /...\n",
      "1994 美国 犯罪 剧情\n",
      "陈凯歌 Kaige Chen 张国荣 Leslie Cheung / 张丰毅 Fengyi Zha...\n",
      "1993 中国大陆 香港 剧情 爱情 同性\n",
      "吕克·贝松 Luc Besson 让·雷诺 Jean Reno / 娜塔莉·波特曼 ...\n",
      "1994 法国 剧情 动作 犯罪\n",
      "Robert Zemeckis Tom Hanks / Robin Wright Penn / Gary Sinise\n",
      "1994 美国 剧情 爱情\n",
      "罗伯托·贝尼尼 Roberto Benigni 罗伯托·贝尼尼 Roberto Beni...\n",
      "1997 意大利 剧情 喜剧 爱情 战争\n",
      "宫崎骏 Hayao Miyazaki 柊瑠美 Rumi Hîragi / 入野自由 Miy...\n",
      "2001 日本 剧情 动画 奇幻\n",
      "詹姆斯·卡梅隆 James Cameron 莱昂纳多·迪卡普里奥 Leonardo...\n",
      "1997 美国 剧情 爱情 灾难\n",
      "史蒂文·斯皮尔伯格 Steven Spielberg 连姆·尼森 Liam Neeson...\n",
      "1993 美国 剧情 历史 战争\n",
      "克里斯托弗·诺兰 Christopher Nolan 莱昂纳多·迪卡普里奥 Le...\n",
      "2010 美国 英国 剧情 科幻 悬疑 冒险\n",
      "安德鲁·斯坦顿 Andrew Stanton 本·贝尔特 Ben Burtt / 艾丽...\n",
      "2008 美国 爱情 科幻 动画 冒险\n",
      "朱塞佩·托纳多雷 Giuseppe Tornatore 蒂姆·罗斯 Tim Roth / ...\n",
      "1998 意大利 剧情 音乐\n",
      "拉库马·希拉尼 Rajkumar Hirani 阿米尔·汗 Aamir Khan / 卡...\n",
      "2009 印度 剧情 喜剧 爱情 歌舞\n",
      "莱塞·霍尔斯道姆 Lasse Hallström 理查·基尔 Richard Ger...\n",
      "2009 美国 英国 剧情\n",
      "克里斯托夫·巴拉蒂 Christophe Barratier 杰拉尔·朱诺 Géra...\n",
      "2004 法国 瑞士 德国 剧情 音乐\n",
      "刘镇伟 Jeffrey Lau 周星驰 Stephen Chow / 吴孟达 Man Tat Ng...\n",
      "1995 香港 中国大陆 喜剧 爱情 奇幻 冒险\n",
      "彼得·威尔 Peter Weir 金·凯瑞 Jim Carrey / 劳拉·琳妮 Lau...\n",
      "1998 美国 剧情 科幻\n",
      "弗朗西斯·福特·科波拉 Francis Ford Coppola 马龙·白兰度 M...\n",
      "1972 美国 剧情 犯罪\n",
      "宫崎骏 Hayao Miyazaki 日高法子 Noriko Hidaka / 坂本千夏 Ch...\n",
      "1988 日本 儿童 动画 奇幻 家庭\n",
      "黄东赫 Dong-hyuk Hwang 孔侑 Yoo Gong / 郑有美 Yu-mi Jeong ...\n",
      "2011 韩国 剧情\n",
      "维克多·弗莱明 Victor Fleming / 乔治·库克 George Cukor 托...\n",
      "1939 美国 剧情 历史 爱情 战争\n",
      "克里斯托弗·诺兰 Christopher Nolan 马修·麦康纳 Matthew Mc...\n",
      "2014 美国 英国 加拿大 冰岛 剧情 科幻 冒险\n",
      "奥利维·那卡什 Olivier Nakache / 艾力克·托兰达 Eric Toledano .\n",
      "2011 法国 剧情 喜剧\n",
      "刘伟强 / 麦兆辉 刘德华 / 梁朝伟 / 黄秋生\n",
      "2002 香港 剧情 犯罪 悬疑\n",
      "加布里尔·穆奇诺 Gabriele Muccino 威尔·史密斯 Will Smith ...\n",
      "2006 美国 剧情 传记 家庭\n",
      "朱塞佩·托纳多雷 Giuseppe Tornatore 安东娜拉·塔莉 Antonel...\n",
      "1988 意大利 法国 剧情 爱情\n"
     ]
    }
   ],
   "source": [
    "for movie in movie_items:\n",
    "    #导演、主演、年代、国家、分类\n",
    "    descriptions = movie.find('p', class_='').text\n",
    "    director, stars = descriptions.split('\\n')[1].strip().split('\\xa0\\xa0\\xa0')\n",
    "    director = director[3:].strip()\n",
    "    stars = stars[3:].strip()\n",
    "    print (director, stars)\n",
    "    year, country, genres = descriptions.split('\\n')[2].strip().split('/')\n",
    "    print(year.strip(), country.strip(), genres.strip())"
   ]
  }
 ],
 "metadata": {
  "kernelspec": {
   "display_name": "Python 3",
   "language": "python",
   "name": "python3"
  },
  "language_info": {
   "codemirror_mode": {
    "name": "ipython",
    "version": 3
   },
   "file_extension": ".py",
   "mimetype": "text/x-python",
   "name": "python",
   "nbconvert_exporter": "python",
   "pygments_lexer": "ipython3",
   "version": "3.5.2"
  }
 },
 "nbformat": 4,
 "nbformat_minor": 2
}
